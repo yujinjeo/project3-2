{
 "cells": [
  {
   "cell_type": "code",
   "execution_count": 98,
   "id": "d9d1fc60",
   "metadata": {
    "scrolled": true
   },
   "outputs": [
    {
     "name": "stdout",
     "output_type": "stream",
     "text": [
      "The token \" That's \"is a type of WORD\n",
      "The token \" an \"is a type of WORD\n",
      "The token \" example \"is a type of WORD\n",
      "The token \" . \"is a type of PUNCT\n",
      "The sentence is  [\"That's\", 'an', 'example'] .\n",
      "\n",
      "\n",
      "The token \" Don't \"is a type of WORD\n",
      "The token \" ignore \"is a type of WORD\n",
      "The token \" it \"is a type of WORD\n",
      "The token \" ! \"is a type of PUNCT\n",
      "The sentence is  [\"Don't\", 'ignore', 'it'] .\n",
      "\n",
      "\n",
      "The token \" 12233 \"is a type of NUM\n",
      "The token \" this \"is a type of WORD\n",
      "The token \" is \"is a type of WORD\n",
      "The token \" an \"is a type of WORD\n",
      "The token \" art \"is a type of WORD\n",
      "The token \" . \"is a type of PUNCT\n",
      "The sentence is  ['12233', 'this', 'is', 'an', 'art'] .\n",
      "\n",
      "\n"
     ]
    }
   ],
   "source": [
    "import re\n",
    "\n",
    "text= '''\n",
    "That's an example. Don't ignore it!\n",
    "12233 this is an art.\n",
    "'''\n",
    "L=re.findall('(\\S{1,6}[^!.\\s])[!.\\s]',text)\n",
    "\n",
    "WORD=re.findall(r'''\\s*([a-zA-Z]+[']?[a-zA-Z]*w*)[!.]?\\s*''', text)\n",
    "NUM=re.findall('''([\\d]+)''', text)\n",
    "PUNCT=re.findall('''.*?([!.]+w*)\\s*.*?''', text)\n",
    "def f():\n",
    "    x=0\n",
    "    y=0\n",
    "    z=0\n",
    "    s=0\n",
    "    n=[]\n",
    "    for i in range(len(L)):\n",
    "        if L[i]==WORD[x]:\n",
    "            print('''The token \"''',WORD[x],'''\"is a type of WORD''')\n",
    "            n.append(WORD[x])\n",
    "            s+=len(WORD[x])\n",
    "            if text[s+len(n)]==PUNCT[z]:\n",
    "                print('''The token \"''',PUNCT[z],'''\"is a type of PUNCT''')\n",
    "                print('The sentence is ',str(n),'.')\n",
    "                print('\\n')\n",
    "                z+=1\n",
    "                s+=1+len(n)\n",
    "                n.clear()\n",
    "            x+=1\n",
    "            continue\n",
    "        else:\n",
    "            if L[i]==NUM[y]:\n",
    "                print('''The token \"''',NUM[y],'''\"is a type of NUM''')\n",
    "                n.append(NUM[y])\n",
    "                s+=len(NUM[y])\n",
    "                y+=1\n",
    "                continue\n",
    "f()\n"
   ]
  }
 ],
 "metadata": {
  "kernelspec": {
   "display_name": "Python 3 (ipykernel)",
   "language": "python",
   "name": "python3"
  },
  "language_info": {
   "codemirror_mode": {
    "name": "ipython",
    "version": 3
   },
   "file_extension": ".py",
   "mimetype": "text/x-python",
   "name": "python",
   "nbconvert_exporter": "python",
   "pygments_lexer": "ipython3",
   "version": "3.10.1"
  }
 },
 "nbformat": 4,
 "nbformat_minor": 5
}
